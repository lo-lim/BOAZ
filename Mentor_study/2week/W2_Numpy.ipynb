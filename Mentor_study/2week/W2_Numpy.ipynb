{
  "nbformat": 4,
  "nbformat_minor": 0,
  "metadata": {
    "colab": {
      "provenance": [],
      "toc_visible": true
    },
    "kernelspec": {
      "name": "python3",
      "display_name": "Python 3"
    },
    "language_info": {
      "name": "python"
    }
  },
  "cells": [
    {
      "cell_type": "markdown",
      "source": [
        "# __Numpy__\n",
        "\n",
        "Numerical Python의 줄임말이기도 한 Numpy는, 고성능의 수치계산을 위한 라이브러리 <br>\n",
        "Numpy는 벡터 및 행렬 연산에 있어서 매우 편리한 기능을 제공 <br>\n",
        "데이터분석을 할 때 사용되는 라이브러리인 pandas와 matplotlib의 기반으로 사용되기도 함\n",
        "<br><br>\n",
        "numpy를 활용하기 위해서는 가장 먼저 라이브러리 설치가 필요하다."
      ],
      "metadata": {
        "id": "TTWN83XU84U6"
      }
    },
    {
      "cell_type": "code",
      "source": [
        "# install\n",
        "!pip install numpy"
      ],
      "metadata": {
        "colab": {
          "base_uri": "https://localhost:8080/"
        },
        "id": "M3wFPvcv9YEm",
        "outputId": "cbdef201-7b8b-462a-a21d-46747e11195f"
      },
      "execution_count": null,
      "outputs": [
        {
          "output_type": "stream",
          "name": "stdout",
          "text": [
            "Looking in indexes: https://pypi.org/simple, https://us-python.pkg.dev/colab-wheels/public/simple/\n",
            "Requirement already satisfied: numpy in /usr/local/lib/python3.8/dist-packages (1.21.6)\n"
          ]
        }
      ]
    },
    {
      "cell_type": "code",
      "source": [
        "# import\n",
        "import numpy as np"
      ],
      "metadata": {
        "id": "AqtT0jsA9ouI"
      },
      "execution_count": null,
      "outputs": []
    },
    {
      "cell_type": "markdown",
      "source": [
        "## Numpy 기초\n",
        "행렬 및 벡터 연산을 위해선 다차원 array를 사용해야 한다. <br>\n",
        "Numpy에서 이러한 다차원 array형태인 핵심적인 객체를 ndarray라고 부른다. <br><br>\n",
        "\n",
        "### array 객체의 속성 \n",
        "\n",
        "* ndarray.ndim: 차원의 수 (rank) 반환\n",
        "* ndarray.shape: 각 차원에 속한 원소의 수를 튜플 형태로 반환\n",
        "* ndarray.size: 배열에 있는 총 갯수 반환\n",
        "* ndarray.dtype: 자료형의 종류 반환 \n",
        "* ndarray.itemsize: 배열의 데이터 사이즈 반환\n",
        "* ndarray.T: 전치된 결과 반환"
      ],
      "metadata": {
        "id": "3C4VBMCw-YWr"
      }
    },
    {
      "cell_type": "markdown",
      "source": [
        "## Numpy 배열 만들기 \n",
        "* array(리스트 or 튜플) \n",
        "* arange()\n",
        "* zeros()\n",
        "* ones()\n",
        "* full()\n",
        "* eye()\n",
        "* random()"
      ],
      "metadata": {
        "id": "m3HYiqulA1Ym"
      }
    },
    {
      "cell_type": "code",
      "source": [
        "# 1. array(리스트)로 1차원 배열 만들기\n",
        "list1 = [1,2,3,4]\n",
        "a1 = np.array(list1)\n",
        "print(a)\n",
        "print(a.shape) "
      ],
      "metadata": {
        "colab": {
          "base_uri": "https://localhost:8080/"
        },
        "id": "oTqMU3u99qNK",
        "outputId": "da2cf32f-e7e4-405c-8aba-e7a9f115e134"
      },
      "execution_count": null,
      "outputs": [
        {
          "output_type": "stream",
          "name": "stdout",
          "text": [
            "[1 2 3 4]\n",
            "(4,)\n"
          ]
        }
      ]
    },
    {
      "cell_type": "code",
      "source": [
        "# 2. array(리스트)로 2차원 배열 만들기\n",
        "a2 = np.array([[1,2,3], [4,5,6]])\n",
        "print(a2)\n",
        "print(a2.shape) "
      ],
      "metadata": {
        "colab": {
          "base_uri": "https://localhost:8080/"
        },
        "id": "O3IfafOLBWwd",
        "outputId": "b0712f63-6692-4ad3-e2d9-a25e191b63d0"
      },
      "execution_count": null,
      "outputs": [
        {
          "output_type": "stream",
          "name": "stdout",
          "text": [
            "[[1 2 3]\n",
            " [4 5 6]]\n",
            "(2, 3)\n"
          ]
        }
      ]
    },
    {
      "cell_type": "code",
      "source": [
        "# 3. arange()로 1차원 배열 만들기\n",
        "a3 = np.arange(10) # 0부터 9까지 숫자 배열 생성\n",
        "print(a3)"
      ],
      "metadata": {
        "colab": {
          "base_uri": "https://localhost:8080/"
        },
        "id": "7e1D7eguBj7q",
        "outputId": "56e88c4b-f92a-41fb-ecb9-b2af726374e2"
      },
      "execution_count": null,
      "outputs": [
        {
          "output_type": "stream",
          "name": "stdout",
          "text": [
            "[0 1 2 3 4 5 6 7 8 9]\n"
          ]
        }
      ]
    },
    {
      "cell_type": "code",
      "source": [
        "# 4. arange()로 1차원 배열 만들기\n",
        "a4 = np.arange(3,11,2) # 3부터 10까지 공차가 2인 등차수열 생성\n",
        "print(a4)"
      ],
      "metadata": {
        "colab": {
          "base_uri": "https://localhost:8080/"
        },
        "id": "8pqgoVF2CDCO",
        "outputId": "8c989106-b0f4-44d0-b360-bfdf1c9ecf5b"
      },
      "execution_count": null,
      "outputs": [
        {
          "output_type": "stream",
          "name": "stdout",
          "text": [
            "[3 5 7 9]\n"
          ]
        }
      ]
    },
    {
      "cell_type": "code",
      "source": [
        "# 5. arange()로 1차원 배열 만들기\n",
        "a5 = np.arange(2.0, 9.8, 0.3, dtype = np.float64) # 자료형이 실수인 등차수열 생성 \n",
        "print(a5)"
      ],
      "metadata": {
        "colab": {
          "base_uri": "https://localhost:8080/"
        },
        "id": "49XyMMmBCVe8",
        "outputId": "e7e5beda-ba7c-4fc0-f72b-44ff009ed1e1"
      },
      "execution_count": null,
      "outputs": [
        {
          "output_type": "stream",
          "name": "stdout",
          "text": [
            "[2.  2.3 2.6 2.9 3.2 3.5 3.8 4.1 4.4 4.7 5.  5.3 5.6 5.9 6.2 6.5 6.8 7.1\n",
            " 7.4 7.7 8.  8.3 8.6 8.9 9.2 9.5 9.8]\n"
          ]
        }
      ]
    },
    {
      "cell_type": "code",
      "source": [
        "# 6. zeros(튜플)로 1차원 배열 만들기 \n",
        "a6 = np.zeros((3,)) # == np.zeros(3) 모든 값이 0인 배열 생성 \n",
        "print(a6)"
      ],
      "metadata": {
        "colab": {
          "base_uri": "https://localhost:8080/"
        },
        "id": "-g9OwSg-Ck9o",
        "outputId": "c7129318-6d42-48c0-9b39-f426c2069883"
      },
      "execution_count": null,
      "outputs": [
        {
          "output_type": "stream",
          "name": "stdout",
          "text": [
            "[0. 0. 0.]\n"
          ]
        }
      ]
    },
    {
      "cell_type": "code",
      "source": [
        "# 7. zeros(튜플)로 n차원 배열 만들기\n",
        "a7 = np.zeros((4,3)) # 모든 값이 0인 4*3 배열 생성 \n",
        "print(a7)"
      ],
      "metadata": {
        "colab": {
          "base_uri": "https://localhost:8080/"
        },
        "id": "O39APP-uDZba",
        "outputId": "b0d87481-0928-4cd6-88c5-7217d5f872e8"
      },
      "execution_count": null,
      "outputs": [
        {
          "output_type": "stream",
          "name": "stdout",
          "text": [
            "[[0. 0. 0.]\n",
            " [0. 0. 0.]\n",
            " [0. 0. 0.]\n",
            " [0. 0. 0.]]\n"
          ]
        }
      ]
    },
    {
      "cell_type": "code",
      "source": [
        "# 8. ones(튜플)로 n차원 배열 만들기\n",
        "a8 = np.ones((4,3)) # 모든 값이 1인 4*3 배열 생성\n",
        "print(a8)"
      ],
      "metadata": {
        "colab": {
          "base_uri": "https://localhost:8080/"
        },
        "id": "ZbCeD7RFDnj9",
        "outputId": "2aeb028d-ef09-476c-a2ec-75309b308673"
      },
      "execution_count": null,
      "outputs": [
        {
          "output_type": "stream",
          "name": "stdout",
          "text": [
            "[[1. 1. 1.]\n",
            " [1. 1. 1.]\n",
            " [1. 1. 1.]\n",
            " [1. 1. 1.]]\n"
          ]
        }
      ]
    },
    {
      "cell_type": "code",
      "source": [
        "# 9. full()로 n차원 배열 만들기\n",
        "a9 = np.full((2,2), 5) # 모든 값이 5인 2*2 배열 생성\n",
        "print(a9)"
      ],
      "metadata": {
        "colab": {
          "base_uri": "https://localhost:8080/"
        },
        "id": "_W5sxH46D12-",
        "outputId": "a12e68f6-fb14-4dea-848c-1f73884792b7"
      },
      "execution_count": null,
      "outputs": [
        {
          "output_type": "stream",
          "name": "stdout",
          "text": [
            "[[5 5]\n",
            " [5 5]]\n"
          ]
        }
      ]
    },
    {
      "cell_type": "code",
      "source": [
        "# 10. eye(n)로 n*n 배열 만들기\n",
        "a10 = np.eye(4)  # 4*4 항등행렬 생성 \n",
        "print(a10)"
      ],
      "metadata": {
        "colab": {
          "base_uri": "https://localhost:8080/"
        },
        "id": "hHLQMfelEJ1S",
        "outputId": "b2c566d6-10f3-4f7f-aedc-0eb1274620c8"
      },
      "execution_count": null,
      "outputs": [
        {
          "output_type": "stream",
          "name": "stdout",
          "text": [
            "[[1. 0. 0. 0.]\n",
            " [0. 1. 0. 0.]\n",
            " [0. 0. 1. 0.]\n",
            " [0. 0. 0. 1.]]\n"
          ]
        }
      ]
    },
    {
      "cell_type": "code",
      "source": [
        "# 11. random(튜플)로 배열 만들기 \n",
        "a11 = np.random.random((3,4)) # 0.0 ~ 1.0 사이 난수로 3*4 배열 생성 \n",
        "print(a11)"
      ],
      "metadata": {
        "colab": {
          "base_uri": "https://localhost:8080/"
        },
        "id": "-8bJ96uvEYk4",
        "outputId": "25ce67d8-d0f5-4f35-a412-bff5c22a1f39"
      },
      "execution_count": null,
      "outputs": [
        {
          "output_type": "stream",
          "name": "stdout",
          "text": [
            "[[0.02650707 0.24937443 0.7211914  0.27729958]\n",
            " [0.94839903 0.13203473 0.91615236 0.50268781]\n",
            " [0.61566279 0.76852241 0.07988767 0.00811611]]\n"
          ]
        }
      ]
    },
    {
      "cell_type": "markdown",
      "source": [
        "## Numpy 배열 모양 바꾸기\n",
        "* reshape()"
      ],
      "metadata": {
        "id": "qtE4-prmGc8q"
      }
    },
    {
      "cell_type": "code",
      "source": [
        "# 1. reshape()으로 차원 변경 \n",
        "b1 = np.arange(10) # 1차원 배열 생성 \n",
        "print(b1)\n",
        "b2 = b1.reshape(2,5)  # 차원 변경 \n",
        "print(b2)"
      ],
      "metadata": {
        "colab": {
          "base_uri": "https://localhost:8080/"
        },
        "id": "zSajbk_eGihC",
        "outputId": "e0651674-f29a-4161-a93d-325290c85c0e"
      },
      "execution_count": null,
      "outputs": [
        {
          "output_type": "stream",
          "name": "stdout",
          "text": [
            "[0 1 2 3 4 5 6 7 8 9]\n",
            "[[0 1 2 3 4]\n",
            " [5 6 7 8 9]]\n"
          ]
        }
      ]
    },
    {
      "cell_type": "markdown",
      "source": [
        "## Numpy 인덱싱\n",
        "\n",
        "\n",
        "*   ndarray[index]\n",
        "*   ndarray[index1, index2]\n",
        "*   ndarray[index1:index2]\n",
        "*   ndarray[[index1, index2],[index3, index4]]\n",
        "*   boolean indexing\n",
        "\n"
      ],
      "metadata": {
        "id": "QMKeJjQIFWX5"
      }
    },
    {
      "cell_type": "code",
      "source": [
        "# 1. ndarray[index] 이용 \n",
        "c1 = np.arange(10)\n",
        "print(c1)\n",
        "c1[2]  # 배열의 첫항은 0번으로 인덱스 시작 "
      ],
      "metadata": {
        "colab": {
          "base_uri": "https://localhost:8080/"
        },
        "id": "PjRRJGfOFMxq",
        "outputId": "5a8ed231-de76-4a68-98cb-1cd4528cbfde"
      },
      "execution_count": null,
      "outputs": [
        {
          "output_type": "stream",
          "name": "stdout",
          "text": [
            "[0 1 2 3 4 5 6 7 8 9]\n"
          ]
        },
        {
          "output_type": "execute_result",
          "data": {
            "text/plain": [
              "2"
            ]
          },
          "metadata": {},
          "execution_count": 27
        }
      ]
    },
    {
      "cell_type": "code",
      "source": [
        "# 2. ndarray[index1, index2] 이용\n",
        "c2 = c1.reshape(5,2)\n",
        "print(c2)\n",
        "c2[3,1]"
      ],
      "metadata": {
        "colab": {
          "base_uri": "https://localhost:8080/"
        },
        "id": "47CSQ4i4HhJf",
        "outputId": "a4b84741-c957-4b36-d86a-ee7704446590"
      },
      "execution_count": null,
      "outputs": [
        {
          "output_type": "stream",
          "name": "stdout",
          "text": [
            "[[0 1]\n",
            " [2 3]\n",
            " [4 5]\n",
            " [6 7]\n",
            " [8 9]]\n"
          ]
        },
        {
          "output_type": "execute_result",
          "data": {
            "text/plain": [
              "7"
            ]
          },
          "metadata": {},
          "execution_count": 29
        }
      ]
    },
    {
      "cell_type": "code",
      "source": [
        "# 3. ndarray[index1:index2] 이용\n",
        "print(c1[0:3]) # 0 ~ 2번 인덱스까지 출력 \n",
        "print(c2[0:3, 0:1]) # 0 ~ 2번 행 * 0번 열 출력"
      ],
      "metadata": {
        "colab": {
          "base_uri": "https://localhost:8080/"
        },
        "id": "6QI4eR3EHzyo",
        "outputId": "ecd1116e-62a3-426c-fc85-d7ff64909236"
      },
      "execution_count": null,
      "outputs": [
        {
          "output_type": "stream",
          "name": "stdout",
          "text": [
            "[0 1 2]\n",
            "[[0]\n",
            " [2]\n",
            " [4]]\n"
          ]
        }
      ]
    },
    {
      "cell_type": "code",
      "source": [
        "# 4. ndarray[[index1, index2],[index3, index4]] 이용 \n",
        "print(c2)\n",
        "print(c2[[0, 2], [1, 1]])  # 0번 행*1번 열 and 2번 행*1번 열"
      ],
      "metadata": {
        "colab": {
          "base_uri": "https://localhost:8080/"
        },
        "id": "X5_JM2SBITPR",
        "outputId": "44ad1daa-7a65-4538-c472-b0a598e62234"
      },
      "execution_count": null,
      "outputs": [
        {
          "output_type": "stream",
          "name": "stdout",
          "text": [
            "[[0 1]\n",
            " [2 3]\n",
            " [4 5]\n",
            " [6 7]\n",
            " [8 9]]\n",
            "[1 5]\n"
          ]
        }
      ]
    },
    {
      "cell_type": "code",
      "source": [
        "# 5. boolean indexing 이용 \n",
        "list = [\n",
        "    [1, 2, 3],\n",
        "    [4, 5, 6],\n",
        "    [7, 8, 9]\n",
        "]\n",
        "c5 = np.array(list)  # 리스트를 이용하여 배열 생성 \n",
        " \n",
        "bool_array = np.array([\n",
        "    [False,  True, False],\n",
        "    [True, False,  True],\n",
        "    [False,  True, False]\n",
        "])  # 불린 값을 이용하여 같은 크기의 배열 생성 \n",
        " \n",
        "c6 = c5[bool_array]  # bool_array를 c5 배열에 적용 \n",
        "print(c6)  # True인 인덱스의 값만 출력 "
      ],
      "metadata": {
        "colab": {
          "base_uri": "https://localhost:8080/"
        },
        "id": "ErrQtLqjIqE4",
        "outputId": "d05b42ff-31c3-46ba-9b7b-1b3fef2845ff"
      },
      "execution_count": null,
      "outputs": [
        {
          "output_type": "stream",
          "name": "stdout",
          "text": [
            "[2 4 6 8]\n"
          ]
        }
      ]
    },
    {
      "cell_type": "code",
      "source": [
        "# 추가. 수식으로 인덱싱 가능 \n",
        "c7 = c5[ c5 % 2 == 0]  # 짝수 값을 가지는 인덱스만 남김 \n",
        "print(c7)"
      ],
      "metadata": {
        "colab": {
          "base_uri": "https://localhost:8080/"
        },
        "id": "nTdx71wiJ5W3",
        "outputId": "2ec331cf-065e-4944-95e4-904cdeb4394c"
      },
      "execution_count": null,
      "outputs": [
        {
          "output_type": "stream",
          "name": "stdout",
          "text": [
            "[2 4 6 8]\n"
          ]
        }
      ]
    },
    {
      "cell_type": "markdown",
      "source": [
        "## Numpy 연산\n",
        "* 연산자 사용 (+, -, *, /, % 등)\n",
        "* method function 사용 \n",
        " * axis = 0: 열끼리 계산, axis = 1: 행끼리 계산\n",
        "\n",
        "***배열 간 연산이 가능하다는 것이 넘파이의 주요 특징!*** "
      ],
      "metadata": {
        "id": "b4qD6JnmKg_s"
      }
    },
    {
      "cell_type": "code",
      "source": [
        "# 1. 더하기 \n",
        "d = np.array([1,2,3])\n",
        "e = np.array([4,5,6])\n",
        "\n",
        "f = d + e  # == ( d = np.add(d, e) )\n",
        "print(f)"
      ],
      "metadata": {
        "colab": {
          "base_uri": "https://localhost:8080/"
        },
        "id": "RrAt_a79KZap",
        "outputId": "9c6a590e-05f6-4dc0-9fb4-97f8680fa21f"
      },
      "execution_count": null,
      "outputs": [
        {
          "output_type": "stream",
          "name": "stdout",
          "text": [
            "[5 7 9]\n"
          ]
        }
      ]
    },
    {
      "cell_type": "code",
      "source": [
        "# 2. 빼기 \n",
        "f = d - e # == ( f = np.subtract(d, e) )\n",
        "print(f)"
      ],
      "metadata": {
        "colab": {
          "base_uri": "https://localhost:8080/"
        },
        "id": "2q7e3zMCLUvF",
        "outputId": "5276ef49-3860-4696-bc69-69dbafaf1240"
      },
      "execution_count": null,
      "outputs": [
        {
          "output_type": "stream",
          "name": "stdout",
          "text": [
            "[-3 -3 -3]\n"
          ]
        }
      ]
    },
    {
      "cell_type": "code",
      "source": [
        "# 3. 곱하기 \n",
        "f = d * e  # == ( f = np.multiply(d, e) )\n",
        "print(f)"
      ],
      "metadata": {
        "colab": {
          "base_uri": "https://localhost:8080/"
        },
        "id": "0mGaSpD2LjZ-",
        "outputId": "89564c75-9406-4b0f-e52f-1bf3b0c64a2a"
      },
      "execution_count": null,
      "outputs": [
        {
          "output_type": "stream",
          "name": "stdout",
          "text": [
            "[ 4 10 18]\n"
          ]
        }
      ]
    },
    {
      "cell_type": "code",
      "source": [
        "# 4. 나누기 \n",
        "f = d / e  # ( f = np.divide(d, e) )\n",
        "print(f)"
      ],
      "metadata": {
        "colab": {
          "base_uri": "https://localhost:8080/"
        },
        "id": "VMIEaCiaLx1t",
        "outputId": "66c5959b-76de-42fc-d7e4-808c84edc1b7"
      },
      "execution_count": null,
      "outputs": [
        {
          "output_type": "stream",
          "name": "stdout",
          "text": [
            "[0.25 0.4  0.5 ]\n"
          ]
        }
      ]
    },
    {
      "cell_type": "code",
      "source": [
        "# 5. 그 외 함수들 \n",
        "print(d)\n",
        "print(d.mean())  # 평균\n",
        "print(d.sum())  # 합\n",
        "print(d.std())  # 표준편차 \n",
        "print(d.var())  # 분산 \n",
        "print(d.min())  # 최솟값\n",
        "print(d.max())  # 최댓값"
      ],
      "metadata": {
        "colab": {
          "base_uri": "https://localhost:8080/"
        },
        "id": "innBQbR3L6Vp",
        "outputId": "b8eb155c-549c-4f18-e48e-b86ac5a8af36"
      },
      "execution_count": null,
      "outputs": [
        {
          "output_type": "stream",
          "name": "stdout",
          "text": [
            "[1 2 3]\n",
            "2.0\n",
            "6\n",
            "0.816496580927726\n",
            "0.6666666666666666\n",
            "1\n",
            "3\n"
          ]
        }
      ]
    },
    {
      "cell_type": "code",
      "source": [
        "# 6. 그 외 함수들2\n",
        "g = np.array([[1, 2, 3], [4, 5, 6], [7, 8, 9]])\n",
        "print(g)\n",
        "print(g.cumsum(0))  # 행을 기준으로 누적합\n",
        "print(g.cumsum(1))  # 열을 기준으로 누적합\n",
        "print(g.cumprod(0))  # 행을 기준으로 누적곱\n",
        "print(g.cumprod(1))  # 열을 기준으로 누적곱"
      ],
      "metadata": {
        "colab": {
          "base_uri": "https://localhost:8080/"
        },
        "id": "ivEjWziEMNJV",
        "outputId": "eed48126-4170-4d6f-fb77-241d482adaf6"
      },
      "execution_count": null,
      "outputs": [
        {
          "output_type": "stream",
          "name": "stdout",
          "text": [
            "[[1 2 3]\n",
            " [4 5 6]\n",
            " [7 8 9]]\n",
            "[[ 1  2  3]\n",
            " [ 5  7  9]\n",
            " [12 15 18]]\n",
            "[[ 1  3  6]\n",
            " [ 4  9 15]\n",
            " [ 7 15 24]]\n",
            "[[  1   2   3]\n",
            " [  4  10  18]\n",
            " [ 28  80 162]]\n",
            "[[  1   2   6]\n",
            " [  4  20 120]\n",
            " [  7  56 504]]\n"
          ]
        }
      ]
    },
    {
      "cell_type": "markdown",
      "source": [
        "## 선형대수학 in Numpy\n",
        "* numpy.diag: 대각선의 값 추출\n",
        "* numpy.dot: 행렬 곱셈\n",
        "* numpy.trace: 대각합\n",
        "* numpy.linalg.det: 행렬식\n",
        "* numpy. linalg.eig: 고유값과 고유벡터 계산\n",
        "* numpy.linalg.inv: 역행렬 계산"
      ],
      "metadata": {
        "id": "Kt6XMd8KOEcQ"
      }
    }
  ]
}